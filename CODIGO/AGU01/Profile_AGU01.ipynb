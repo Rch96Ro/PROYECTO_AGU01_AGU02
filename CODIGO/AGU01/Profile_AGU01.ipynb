{
 "cells": [
  {
   "cell_type": "code",
   "execution_count": null,
   "id": "zRGCyf2jcsLX",
   "metadata": {
    "colab": {
     "base_uri": "https://localhost:8080/"
    },
    "executionInfo": {
     "elapsed": 13210,
     "status": "ok",
     "timestamp": 1750223510288,
     "user": {
      "displayName": "RONALD CHOQUE",
      "userId": "11048572111781069010"
     },
     "user_tz": 240
    },
    "id": "zRGCyf2jcsLX",
    "outputId": "021ee1c6-4b74-4d26-f67c-a2e32ac02ea5"
   },
   "outputs": [
    {
     "name": "stdout",
     "output_type": "stream",
     "text": [
      "Collecting ydata-profiling\n",
      "  Downloading ydata_profiling-4.16.1-py2.py3-none-any.whl.metadata (22 kB)\n",
      "Requirement already satisfied: scipy<1.16,>=1.4.1 in /usr/local/lib/python3.11/dist-packages (from ydata-profiling) (1.15.3)\n",
      "Requirement already satisfied: pandas!=1.4.0,<3.0,>1.1 in /usr/local/lib/python3.11/dist-packages (from ydata-profiling) (2.2.2)\n",
      "Requirement already satisfied: matplotlib<=3.10,>=3.5 in /usr/local/lib/python3.11/dist-packages (from ydata-profiling) (3.10.0)\n",
      "Requirement already satisfied: pydantic>=2 in /usr/local/lib/python3.11/dist-packages (from ydata-profiling) (2.11.5)\n",
      "Requirement already satisfied: PyYAML<6.1,>=5.0.0 in /usr/local/lib/python3.11/dist-packages (from ydata-profiling) (6.0.2)\n",
      "Requirement already satisfied: jinja2<3.2,>=2.11.1 in /usr/local/lib/python3.11/dist-packages (from ydata-profiling) (3.1.6)\n",
      "Collecting visions<0.8.2,>=0.7.5 (from visions[type_image_path]<0.8.2,>=0.7.5->ydata-profiling)\n",
      "  Downloading visions-0.8.1-py3-none-any.whl.metadata (11 kB)\n",
      "Requirement already satisfied: numpy<2.2,>=1.16.0 in /usr/local/lib/python3.11/dist-packages (from ydata-profiling) (2.0.2)\n",
      "Collecting htmlmin==0.1.12 (from ydata-profiling)\n",
      "  Downloading htmlmin-0.1.12.tar.gz (19 kB)\n",
      "  Preparing metadata (setup.py) ... \u001b[?25l\u001b[?25hdone\n",
      "Collecting phik<0.13,>=0.11.1 (from ydata-profiling)\n",
      "  Downloading phik-0.12.4-cp311-cp311-manylinux_2_17_x86_64.manylinux2014_x86_64.whl.metadata (5.6 kB)\n",
      "Requirement already satisfied: requests<3,>=2.24.0 in /usr/local/lib/python3.11/dist-packages (from ydata-profiling) (2.32.3)\n",
      "Requirement already satisfied: tqdm<5,>=4.48.2 in /usr/local/lib/python3.11/dist-packages (from ydata-profiling) (4.67.1)\n",
      "Requirement already satisfied: seaborn<0.14,>=0.10.1 in /usr/local/lib/python3.11/dist-packages (from ydata-profiling) (0.13.2)\n",
      "Collecting multimethod<2,>=1.4 (from ydata-profiling)\n",
      "  Downloading multimethod-1.12-py3-none-any.whl.metadata (9.6 kB)\n",
      "Requirement already satisfied: statsmodels<1,>=0.13.2 in /usr/local/lib/python3.11/dist-packages (from ydata-profiling) (0.14.4)\n",
      "Requirement already satisfied: typeguard<5,>=3 in /usr/local/lib/python3.11/dist-packages (from ydata-profiling) (4.4.3)\n",
      "Collecting imagehash==4.3.1 (from ydata-profiling)\n",
      "  Downloading ImageHash-4.3.1-py2.py3-none-any.whl.metadata (8.0 kB)\n",
      "Requirement already satisfied: wordcloud>=1.9.3 in /usr/local/lib/python3.11/dist-packages (from ydata-profiling) (1.9.4)\n",
      "Collecting dacite>=1.8 (from ydata-profiling)\n",
      "  Downloading dacite-1.9.2-py3-none-any.whl.metadata (17 kB)\n",
      "Requirement already satisfied: numba<=0.61,>=0.56.0 in /usr/local/lib/python3.11/dist-packages (from ydata-profiling) (0.60.0)\n",
      "Requirement already satisfied: PyWavelets in /usr/local/lib/python3.11/dist-packages (from imagehash==4.3.1->ydata-profiling) (1.8.0)\n",
      "Requirement already satisfied: pillow in /usr/local/lib/python3.11/dist-packages (from imagehash==4.3.1->ydata-profiling) (11.2.1)\n",
      "Requirement already satisfied: MarkupSafe>=2.0 in /usr/local/lib/python3.11/dist-packages (from jinja2<3.2,>=2.11.1->ydata-profiling) (3.0.2)\n",
      "Requirement already satisfied: contourpy>=1.0.1 in /usr/local/lib/python3.11/dist-packages (from matplotlib<=3.10,>=3.5->ydata-profiling) (1.3.2)\n",
      "Requirement already satisfied: cycler>=0.10 in /usr/local/lib/python3.11/dist-packages (from matplotlib<=3.10,>=3.5->ydata-profiling) (0.12.1)\n",
      "Requirement already satisfied: fonttools>=4.22.0 in /usr/local/lib/python3.11/dist-packages (from matplotlib<=3.10,>=3.5->ydata-profiling) (4.58.2)\n",
      "Requirement already satisfied: kiwisolver>=1.3.1 in /usr/local/lib/python3.11/dist-packages (from matplotlib<=3.10,>=3.5->ydata-profiling) (1.4.8)\n",
      "Requirement already satisfied: packaging>=20.0 in /usr/local/lib/python3.11/dist-packages (from matplotlib<=3.10,>=3.5->ydata-profiling) (24.2)\n",
      "Requirement already satisfied: pyparsing>=2.3.1 in /usr/local/lib/python3.11/dist-packages (from matplotlib<=3.10,>=3.5->ydata-profiling) (3.2.3)\n",
      "Requirement already satisfied: python-dateutil>=2.7 in /usr/local/lib/python3.11/dist-packages (from matplotlib<=3.10,>=3.5->ydata-profiling) (2.9.0.post0)\n",
      "Requirement already satisfied: llvmlite<0.44,>=0.43.0dev0 in /usr/local/lib/python3.11/dist-packages (from numba<=0.61,>=0.56.0->ydata-profiling) (0.43.0)\n",
      "Requirement already satisfied: pytz>=2020.1 in /usr/local/lib/python3.11/dist-packages (from pandas!=1.4.0,<3.0,>1.1->ydata-profiling) (2025.2)\n",
      "Requirement already satisfied: tzdata>=2022.7 in /usr/local/lib/python3.11/dist-packages (from pandas!=1.4.0,<3.0,>1.1->ydata-profiling) (2025.2)\n",
      "Requirement already satisfied: joblib>=0.14.1 in /usr/local/lib/python3.11/dist-packages (from phik<0.13,>=0.11.1->ydata-profiling) (1.5.1)\n",
      "Requirement already satisfied: annotated-types>=0.6.0 in /usr/local/lib/python3.11/dist-packages (from pydantic>=2->ydata-profiling) (0.7.0)\n",
      "Requirement already satisfied: pydantic-core==2.33.2 in /usr/local/lib/python3.11/dist-packages (from pydantic>=2->ydata-profiling) (2.33.2)\n",
      "Requirement already satisfied: typing-extensions>=4.12.2 in /usr/local/lib/python3.11/dist-packages (from pydantic>=2->ydata-profiling) (4.14.0)\n",
      "Requirement already satisfied: typing-inspection>=0.4.0 in /usr/local/lib/python3.11/dist-packages (from pydantic>=2->ydata-profiling) (0.4.1)\n",
      "Requirement already satisfied: charset-normalizer<4,>=2 in /usr/local/lib/python3.11/dist-packages (from requests<3,>=2.24.0->ydata-profiling) (3.4.2)\n",
      "Requirement already satisfied: idna<4,>=2.5 in /usr/local/lib/python3.11/dist-packages (from requests<3,>=2.24.0->ydata-profiling) (3.10)\n",
      "Requirement already satisfied: urllib3<3,>=1.21.1 in /usr/local/lib/python3.11/dist-packages (from requests<3,>=2.24.0->ydata-profiling) (2.4.0)\n",
      "Requirement already satisfied: certifi>=2017.4.17 in /usr/local/lib/python3.11/dist-packages (from requests<3,>=2.24.0->ydata-profiling) (2025.4.26)\n",
      "Requirement already satisfied: patsy>=0.5.6 in /usr/local/lib/python3.11/dist-packages (from statsmodels<1,>=0.13.2->ydata-profiling) (1.0.1)\n",
      "Requirement already satisfied: attrs>=19.3.0 in /usr/local/lib/python3.11/dist-packages (from visions<0.8.2,>=0.7.5->visions[type_image_path]<0.8.2,>=0.7.5->ydata-profiling) (25.3.0)\n",
      "Requirement already satisfied: networkx>=2.4 in /usr/local/lib/python3.11/dist-packages (from visions<0.8.2,>=0.7.5->visions[type_image_path]<0.8.2,>=0.7.5->ydata-profiling) (3.5)\n",
      "Collecting puremagic (from visions<0.8.2,>=0.7.5->visions[type_image_path]<0.8.2,>=0.7.5->ydata-profiling)\n",
      "  Downloading puremagic-1.29-py3-none-any.whl.metadata (5.8 kB)\n",
      "Requirement already satisfied: six>=1.5 in /usr/local/lib/python3.11/dist-packages (from python-dateutil>=2.7->matplotlib<=3.10,>=3.5->ydata-profiling) (1.17.0)\n",
      "Downloading ydata_profiling-4.16.1-py2.py3-none-any.whl (400 kB)\n",
      "\u001b[2K   \u001b[90m━━━━━━━━━━━━━━━━━━━━━━━━━━━━━━━━━━━━━━━━\u001b[0m \u001b[32m400.1/400.1 kB\u001b[0m \u001b[31m14.2 MB/s\u001b[0m eta \u001b[36m0:00:00\u001b[0m\n",
      "\u001b[?25hDownloading ImageHash-4.3.1-py2.py3-none-any.whl (296 kB)\n",
      "\u001b[2K   \u001b[90m━━━━━━━━━━━━━━━━━━━━━━━━━━━━━━━━━━━━━━━━\u001b[0m \u001b[32m296.5/296.5 kB\u001b[0m \u001b[31m23.1 MB/s\u001b[0m eta \u001b[36m0:00:00\u001b[0m\n",
      "\u001b[?25hDownloading dacite-1.9.2-py3-none-any.whl (16 kB)\n",
      "Downloading multimethod-1.12-py3-none-any.whl (10 kB)\n",
      "Downloading phik-0.12.4-cp311-cp311-manylinux_2_17_x86_64.manylinux2014_x86_64.whl (687 kB)\n",
      "\u001b[2K   \u001b[90m━━━━━━━━━━━━━━━━━━━━━━━━━━━━━━━━━━━━━━━━\u001b[0m \u001b[32m687.8/687.8 kB\u001b[0m \u001b[31m33.0 MB/s\u001b[0m eta \u001b[36m0:00:00\u001b[0m\n",
      "\u001b[?25hDownloading visions-0.8.1-py3-none-any.whl (105 kB)\n",
      "\u001b[2K   \u001b[90m━━━━━━━━━━━━━━━━━━━━━━━━━━━━━━━━━━━━━━━━\u001b[0m \u001b[32m105.4/105.4 kB\u001b[0m \u001b[31m11.1 MB/s\u001b[0m eta \u001b[36m0:00:00\u001b[0m\n",
      "\u001b[?25hDownloading puremagic-1.29-py3-none-any.whl (43 kB)\n",
      "\u001b[2K   \u001b[90m━━━━━━━━━━━━━━━━━━━━━━━━━━━━━━━━━━━━━━━━\u001b[0m \u001b[32m43.3/43.3 kB\u001b[0m \u001b[31m4.0 MB/s\u001b[0m eta \u001b[36m0:00:00\u001b[0m\n",
      "\u001b[?25hBuilding wheels for collected packages: htmlmin\n",
      "  Building wheel for htmlmin (setup.py) ... \u001b[?25l\u001b[?25hdone\n",
      "  Created wheel for htmlmin: filename=htmlmin-0.1.12-py3-none-any.whl size=27081 sha256=446c873c32f7f5c2257cb7ebdde65cf76a35e7dcd46a9299becd7f8e387baffa\n",
      "  Stored in directory: /root/.cache/pip/wheels/8d/55/1a/19cd535375ed1ede0c996405ebffe34b196d78e2d9545723a2\n",
      "Successfully built htmlmin\n",
      "Installing collected packages: puremagic, htmlmin, multimethod, dacite, imagehash, visions, phik, ydata-profiling\n",
      "Successfully installed dacite-1.9.2 htmlmin-0.1.12 imagehash-4.3.1 multimethod-1.12 phik-0.12.4 puremagic-1.29 visions-0.8.1 ydata-profiling-4.16.1\n"
     ]
    }
   ],
   "source": [
    "!pip install ydata-profiling"
   ]
  },
  {
   "cell_type": "code",
   "execution_count": null,
   "id": "f840ec0b-3487-49f0-b026-534e809d8471",
   "metadata": {
    "editable": true,
    "id": "f840ec0b-3487-49f0-b026-534e809d8471",
    "tags": []
   },
   "outputs": [],
   "source": [
    "import pandas as pd\n",
    "import matplotlib.pyplot as plt\n",
    "import seaborn as sns\n"
   ]
  },
  {
   "cell_type": "code",
   "execution_count": null,
   "id": "WiJ78h9zb3er",
   "metadata": {
    "colab": {
     "base_uri": "https://localhost:8080/"
    },
    "executionInfo": {
     "elapsed": 12465,
     "status": "ok",
     "timestamp": 1750223314987,
     "user": {
      "displayName": "RONALD CHOQUE",
      "userId": "11048572111781069010"
     },
     "user_tz": 240
    },
    "id": "WiJ78h9zb3er",
    "outputId": "d2ff2e14-08db-46a8-d768-57a5126f2f94"
   },
   "outputs": [
    {
     "name": "stdout",
     "output_type": "stream",
     "text": [
      "   Nro_evento               Fecha  Potencia_activa_consumida [kW]  \\\n",
      "0           1 2024-05-01 00:15:00                             424   \n",
      "1           2 2024-05-01 00:30:00                             421   \n",
      "2           3 2024-05-01 00:45:00                             494   \n",
      "3           4 2024-05-01 01:00:00                             610   \n",
      "4           5 2024-05-01 01:15:00                             562   \n",
      "\n",
      "   Potencia_activa_generada [kW]  Potencia_reactiva_consumida1 [kVAr]  \\\n",
      "0                              0                                  202   \n",
      "1                              0                                  210   \n",
      "2                              0                                  269   \n",
      "3                              0                                  348   \n",
      "4                              0                                  321   \n",
      "\n",
      "   Potencia_reactiva_consumida2 [kVAr]  Potencia_reactiva_generada1 [kVAr]  \\\n",
      "0                                    0                                   0   \n",
      "1                                    0                                   0   \n",
      "2                                    0                                   0   \n",
      "3                                    0                                   0   \n",
      "4                                    0                                   0   \n",
      "\n",
      "   Potencia_reactiva_generada2 [kVAr]  Potencia_aparente_consumida [kVA]  \\\n",
      "0                                   0                                470   \n",
      "1                                   0                                471   \n",
      "2                                   0                                564   \n",
      "3                                   0                                703   \n",
      "4                                   0                                647   \n",
      "\n",
      "   Potencia_aparente_generada [kVA]  Voltaje_F-N_A [kV]  Voltaje_F-N_B [kV]  \\\n",
      "0                                 0                65.2                65.2   \n",
      "1                                 0                65.2                65.3   \n",
      "2                                 1                65.3                65.3   \n",
      "3                                 0                65.2                65.3   \n",
      "4                                 0                65.3                65.3   \n",
      "\n",
      "   Voltaje_F-N_C [kV]  Amperaje_A [A]  Amperaje_B [A]  Amperaje_C [A]  \n",
      "0                65.2            0.06            0.05            0.06  \n",
      "1                65.2            0.06            0.05            0.06  \n",
      "2                65.3            0.07            0.06            0.07  \n",
      "3                65.2            0.09            0.08            0.09  \n",
      "4                65.3            0.08            0.07            0.08  \n"
     ]
    }
   ],
   "source": [
    "#importamos el dataset directo desde drive\n",
    "file_id = \"1a70xntAnFLuo2qZLyU9ZWQCrj2eQMSyS\"  # id AGU01_limpio.xlsx\n",
    "url = f\"https://drive.google.com/uc?id={file_id}\"\n",
    "\n",
    "# Leer archivo Excel\n",
    "df = pd.read_excel(url, engine=\"openpyxl\")\n",
    "\n",
    "# Ver los primeros registros\n",
    "print(df.head())"
   ]
  },
  {
   "cell_type": "code",
   "execution_count": null,
   "id": "3d9bb40e-3aed-4502-91ba-9b8721ea8546",
   "metadata": {
    "colab": {
     "base_uri": "https://localhost:8080/"
    },
    "executionInfo": {
     "elapsed": 52,
     "status": "ok",
     "timestamp": 1750223315044,
     "user": {
      "displayName": "RONALD CHOQUE",
      "userId": "11048572111781069010"
     },
     "user_tz": 240
    },
    "id": "3d9bb40e-3aed-4502-91ba-9b8721ea8546",
    "outputId": "fdfb128b-eaa1-441e-dbba-4e9bdb69d614",
    "scrolled": true
   },
   "outputs": [
    {
     "name": "stdout",
     "output_type": "stream",
     "text": [
      "<class 'pandas.core.frame.DataFrame'>\n",
      "RangeIndex: 18749 entries, 0 to 18748\n",
      "Data columns (total 16 columns):\n",
      " #   Column                               Non-Null Count  Dtype         \n",
      "---  ------                               --------------  -----         \n",
      " 0   Nro_evento                           18749 non-null  int64         \n",
      " 1   Fecha                                18749 non-null  datetime64[ns]\n",
      " 2   Potencia_activa_consumida [kW]       18749 non-null  int64         \n",
      " 3   Potencia_activa_generada [kW]        18749 non-null  int64         \n",
      " 4   Potencia_reactiva_consumida1 [kVAr]  18749 non-null  int64         \n",
      " 5   Potencia_reactiva_consumida2 [kVAr]  18749 non-null  int64         \n",
      " 6   Potencia_reactiva_generada1 [kVAr]   18749 non-null  int64         \n",
      " 7   Potencia_reactiva_generada2 [kVAr]   18749 non-null  int64         \n",
      " 8   Potencia_aparente_consumida [kVA]    18749 non-null  int64         \n",
      " 9   Potencia_aparente_generada [kVA]     18749 non-null  int64         \n",
      " 10  Voltaje_F-N_A [kV]                   18749 non-null  float64       \n",
      " 11  Voltaje_F-N_B [kV]                   18749 non-null  float64       \n",
      " 12  Voltaje_F-N_C [kV]                   18749 non-null  float64       \n",
      " 13  Amperaje_A [A]                       18749 non-null  float64       \n",
      " 14  Amperaje_B [A]                       18749 non-null  float64       \n",
      " 15  Amperaje_C [A]                       18749 non-null  float64       \n",
      "dtypes: datetime64[ns](1), float64(6), int64(9)\n",
      "memory usage: 2.3 MB\n",
      "None\n"
     ]
    }
   ],
   "source": [
    "print(df.info())"
   ]
  },
  {
   "cell_type": "code",
   "execution_count": null,
   "id": "2b040dbe-2983-4587-9370-373ebbfbe5bf",
   "metadata": {
    "colab": {
     "base_uri": "https://localhost:8080/",
     "height": 1000,
     "output_embedded_package_id": "1JmQ6dWslatsAUFBMVVHdfJuRzGWPnM9a",
     "referenced_widgets": [
      "13b30d6c3c7b4f82ba1e03ebf89c4a80",
      "339c599c4d15403c9d17d11bd16ef227",
      "61f6a198ebbb42d0992403c53a709f99",
      "721a6397fb1543f78d50b9aca1560910",
      "3efa39ecc1194b13ac375b13e62134d5",
      "2de82122cca24fc0a05f2596ad8fd90f",
      "7e27596e14164d53806ffc426ba9d5cf",
      "8891a19e7c6c4e1da87ce9ec1b3d0a36",
      "a308860ca1454dfcb6b7dfa2c864cd68",
      "b7cd16504a2849fc8018881fe2b2ca73",
      "0793f626c9ae45ccaf2879e2ffe777c6",
      "51e973eb69f7448e9e993aa1b18e24f8",
      "b93009173d544c7eb5956180d630b6e5",
      "72eb967ad4a74700a4acb39f30e6d9a1",
      "a9ea9c0261834f14b52ae22a352d9e3f",
      "470e4c1c0f1241bdaabf60e15051440b",
      "adf0a154a0664f23b3986a9769acfccf",
      "2065ff4cd00d44698c44efd70a0e1617",
      "7a0948fdbe934413b2c3eb2618422407",
      "d60eb2414b77447cbe03dbff8ab6d303",
      "8e53d810f7204c4abf9d34e99f485dbe",
      "8c7c139184254289849d70e0d18c28df",
      "92edcb3cf80d400485fb302940b96d89",
      "31888aadf17343be9186cdccd2983199",
      "35c7f67f80d14b5ebe7032fa71094e7a",
      "f62e886b5e014add8ddba30aa76b2e80",
      "24abddf37b4c4cd0bc32778f573decea",
      "decd98f4ce37495581351804f506d422",
      "ac06c4c269eb41e691218df54655801c",
      "025f04922b0f4df987a97bbdda46b282",
      "53e145213dbd4a55a4e33598a2c55524",
      "068ef9ec3a36444984582dbb73e4f599",
      "a213ac0aebe94a53b8e690af6542647a"
     ]
    },
    "executionInfo": {
     "elapsed": 58015,
     "status": "ok",
     "timestamp": 1750223569070,
     "user": {
      "displayName": "RONALD CHOQUE",
      "userId": "11048572111781069010"
     },
     "user_tz": 240
    },
    "id": "2b040dbe-2983-4587-9370-373ebbfbe5bf",
    "outputId": "ad7262ae-0d6d-4321-eb1c-24f445d32942"
   },
   "outputs": [
    {
     "data": {
      "text/plain": [
       "Output hidden; open in https://colab.research.google.com to view."
      ]
     },
     "metadata": {},
     "output_type": "display_data"
    }
   ],
   "source": [
    "from ydata_profiling import ProfileReport\n",
    "profile = ProfileReport(df,title='Profiling Report')\n",
    "profile"
   ]
  },
  {
   "cell_type": "code",
   "execution_count": null,
   "id": "e37f25e3-084a-4e73-be7d-83da0cadba6b",
   "metadata": {
    "colab": {
     "base_uri": "https://localhost:8080/",
     "height": 49,
     "referenced_widgets": [
      "337ec7d3287a42eaa3712f6d25f3c638",
      "2986c8d586f34b03acf303d299a8a846",
      "64cd8b2624274a759085394aaa431133",
      "381ba8571f284aa996e249c4c82f2eaf",
      "4c55e0281a434971bba1aa116285e882",
      "e409a3b14a2040d3b328c09f880ce5c5",
      "1dbca9f2e3c1463ca6e4678c637c1418",
      "b7fb39342a8d4fe396bb83dedbfb472a",
      "1bfa3aff9fd44538a20a5ef979f97a80",
      "18df22c52e6f4d9f97302805af83c4bf",
      "37485e44472946e3b913d7a3522b5440"
     ]
    },
    "executionInfo": {
     "elapsed": 16,
     "status": "ok",
     "timestamp": 1750223569453,
     "user": {
      "displayName": "RONALD CHOQUE",
      "userId": "11048572111781069010"
     },
     "user_tz": 240
    },
    "id": "e37f25e3-084a-4e73-be7d-83da0cadba6b",
    "outputId": "d17fa676-c57f-4bf9-820a-469b5d9258c6"
   },
   "outputs": [
    {
     "data": {
      "application/vnd.jupyter.widget-view+json": {
       "model_id": "337ec7d3287a42eaa3712f6d25f3c638",
       "version_major": 2,
       "version_minor": 0
      },
      "text/plain": [
       "Export report to file:   0%|          | 0/1 [00:00<?, ?it/s]"
      ]
     },
     "metadata": {},
     "output_type": "display_data"
    }
   ],
   "source": [
    "profile.to_file(\"reporte_AGU01.html\")"
   ]
  },
  {
   "cell_type": "code",
   "execution_count": null,
   "id": "ca256abe-f65b-4660-96c5-46119c11b014",
   "metadata": {
    "id": "ca256abe-f65b-4660-96c5-46119c11b014"
   },
   "outputs": [],
   "source": []
  }
 ],
 "metadata": {
  "colab": {
   "provenance": []
  },
  "kernelspec": {
   "display_name": "Python [conda env:base] *",
   "language": "python",
   "name": "conda-base-py"
  },
  "language_info": {
   "codemirror_mode": {
    "name": "ipython",
    "version": 3
   },
   "file_extension": ".py",
   "mimetype": "text/x-python",
   "name": "python",
   "nbconvert_exporter": "python",
   "pygments_lexer": "ipython3",
   "version": "3.12.7"
  }
 },
 "nbformat": 4,
 "nbformat_minor": 5
}
