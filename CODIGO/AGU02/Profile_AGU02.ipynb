{
 "cells": [
  {
   "cell_type": "code",
   "execution_count": 1,
   "id": "S5bocWF3hQMM",
   "metadata": {
    "colab": {
     "base_uri": "https://localhost:8080/"
    },
    "executionInfo": {
     "elapsed": 14990,
     "status": "ok",
     "timestamp": 1750256876044,
     "user": {
      "displayName": "RONALD CHOQUE",
      "userId": "11048572111781069010"
     },
     "user_tz": 240
    },
    "id": "S5bocWF3hQMM",
    "outputId": "ce86f052-ad90-4c91-d833-3da124138711"
   },
   "outputs": [
    {
     "name": "stdout",
     "output_type": "stream",
     "text": [
      "Collecting ydata-profiling\n",
      "  Downloading ydata_profiling-4.16.1-py2.py3-none-any.whl.metadata (22 kB)\n",
      "Requirement already satisfied: scipy<1.16,>=1.4.1 in /usr/local/lib/python3.11/dist-packages (from ydata-profiling) (1.15.3)\n",
      "Requirement already satisfied: pandas!=1.4.0,<3.0,>1.1 in /usr/local/lib/python3.11/dist-packages (from ydata-profiling) (2.2.2)\n",
      "Requirement already satisfied: matplotlib<=3.10,>=3.5 in /usr/local/lib/python3.11/dist-packages (from ydata-profiling) (3.10.0)\n",
      "Requirement already satisfied: pydantic>=2 in /usr/local/lib/python3.11/dist-packages (from ydata-profiling) (2.11.5)\n",
      "Requirement already satisfied: PyYAML<6.1,>=5.0.0 in /usr/local/lib/python3.11/dist-packages (from ydata-profiling) (6.0.2)\n",
      "Requirement already satisfied: jinja2<3.2,>=2.11.1 in /usr/local/lib/python3.11/dist-packages (from ydata-profiling) (3.1.6)\n",
      "Collecting visions<0.8.2,>=0.7.5 (from visions[type_image_path]<0.8.2,>=0.7.5->ydata-profiling)\n",
      "  Downloading visions-0.8.1-py3-none-any.whl.metadata (11 kB)\n",
      "Requirement already satisfied: numpy<2.2,>=1.16.0 in /usr/local/lib/python3.11/dist-packages (from ydata-profiling) (2.0.2)\n",
      "Collecting htmlmin==0.1.12 (from ydata-profiling)\n",
      "  Downloading htmlmin-0.1.12.tar.gz (19 kB)\n",
      "  Preparing metadata (setup.py) ... \u001b[?25l\u001b[?25hdone\n",
      "Collecting phik<0.13,>=0.11.1 (from ydata-profiling)\n",
      "  Downloading phik-0.12.4-cp311-cp311-manylinux_2_17_x86_64.manylinux2014_x86_64.whl.metadata (5.6 kB)\n",
      "Requirement already satisfied: requests<3,>=2.24.0 in /usr/local/lib/python3.11/dist-packages (from ydata-profiling) (2.32.3)\n",
      "Requirement already satisfied: tqdm<5,>=4.48.2 in /usr/local/lib/python3.11/dist-packages (from ydata-profiling) (4.67.1)\n",
      "Requirement already satisfied: seaborn<0.14,>=0.10.1 in /usr/local/lib/python3.11/dist-packages (from ydata-profiling) (0.13.2)\n",
      "Collecting multimethod<2,>=1.4 (from ydata-profiling)\n",
      "  Downloading multimethod-1.12-py3-none-any.whl.metadata (9.6 kB)\n",
      "Requirement already satisfied: statsmodels<1,>=0.13.2 in /usr/local/lib/python3.11/dist-packages (from ydata-profiling) (0.14.4)\n",
      "Requirement already satisfied: typeguard<5,>=3 in /usr/local/lib/python3.11/dist-packages (from ydata-profiling) (4.4.3)\n",
      "Collecting imagehash==4.3.1 (from ydata-profiling)\n",
      "  Downloading ImageHash-4.3.1-py2.py3-none-any.whl.metadata (8.0 kB)\n",
      "Requirement already satisfied: wordcloud>=1.9.3 in /usr/local/lib/python3.11/dist-packages (from ydata-profiling) (1.9.4)\n",
      "Collecting dacite>=1.8 (from ydata-profiling)\n",
      "  Downloading dacite-1.9.2-py3-none-any.whl.metadata (17 kB)\n",
      "Requirement already satisfied: numba<=0.61,>=0.56.0 in /usr/local/lib/python3.11/dist-packages (from ydata-profiling) (0.60.0)\n",
      "Requirement already satisfied: PyWavelets in /usr/local/lib/python3.11/dist-packages (from imagehash==4.3.1->ydata-profiling) (1.8.0)\n",
      "Requirement already satisfied: pillow in /usr/local/lib/python3.11/dist-packages (from imagehash==4.3.1->ydata-profiling) (11.2.1)\n",
      "Requirement already satisfied: MarkupSafe>=2.0 in /usr/local/lib/python3.11/dist-packages (from jinja2<3.2,>=2.11.1->ydata-profiling) (3.0.2)\n",
      "Requirement already satisfied: contourpy>=1.0.1 in /usr/local/lib/python3.11/dist-packages (from matplotlib<=3.10,>=3.5->ydata-profiling) (1.3.2)\n",
      "Requirement already satisfied: cycler>=0.10 in /usr/local/lib/python3.11/dist-packages (from matplotlib<=3.10,>=3.5->ydata-profiling) (0.12.1)\n",
      "Requirement already satisfied: fonttools>=4.22.0 in /usr/local/lib/python3.11/dist-packages (from matplotlib<=3.10,>=3.5->ydata-profiling) (4.58.2)\n",
      "Requirement already satisfied: kiwisolver>=1.3.1 in /usr/local/lib/python3.11/dist-packages (from matplotlib<=3.10,>=3.5->ydata-profiling) (1.4.8)\n",
      "Requirement already satisfied: packaging>=20.0 in /usr/local/lib/python3.11/dist-packages (from matplotlib<=3.10,>=3.5->ydata-profiling) (24.2)\n",
      "Requirement already satisfied: pyparsing>=2.3.1 in /usr/local/lib/python3.11/dist-packages (from matplotlib<=3.10,>=3.5->ydata-profiling) (3.2.3)\n",
      "Requirement already satisfied: python-dateutil>=2.7 in /usr/local/lib/python3.11/dist-packages (from matplotlib<=3.10,>=3.5->ydata-profiling) (2.9.0.post0)\n",
      "Requirement already satisfied: llvmlite<0.44,>=0.43.0dev0 in /usr/local/lib/python3.11/dist-packages (from numba<=0.61,>=0.56.0->ydata-profiling) (0.43.0)\n",
      "Requirement already satisfied: pytz>=2020.1 in /usr/local/lib/python3.11/dist-packages (from pandas!=1.4.0,<3.0,>1.1->ydata-profiling) (2025.2)\n",
      "Requirement already satisfied: tzdata>=2022.7 in /usr/local/lib/python3.11/dist-packages (from pandas!=1.4.0,<3.0,>1.1->ydata-profiling) (2025.2)\n",
      "Requirement already satisfied: joblib>=0.14.1 in /usr/local/lib/python3.11/dist-packages (from phik<0.13,>=0.11.1->ydata-profiling) (1.5.1)\n",
      "Requirement already satisfied: annotated-types>=0.6.0 in /usr/local/lib/python3.11/dist-packages (from pydantic>=2->ydata-profiling) (0.7.0)\n",
      "Requirement already satisfied: pydantic-core==2.33.2 in /usr/local/lib/python3.11/dist-packages (from pydantic>=2->ydata-profiling) (2.33.2)\n",
      "Requirement already satisfied: typing-extensions>=4.12.2 in /usr/local/lib/python3.11/dist-packages (from pydantic>=2->ydata-profiling) (4.14.0)\n",
      "Requirement already satisfied: typing-inspection>=0.4.0 in /usr/local/lib/python3.11/dist-packages (from pydantic>=2->ydata-profiling) (0.4.1)\n",
      "Requirement already satisfied: charset-normalizer<4,>=2 in /usr/local/lib/python3.11/dist-packages (from requests<3,>=2.24.0->ydata-profiling) (3.4.2)\n",
      "Requirement already satisfied: idna<4,>=2.5 in /usr/local/lib/python3.11/dist-packages (from requests<3,>=2.24.0->ydata-profiling) (3.10)\n",
      "Requirement already satisfied: urllib3<3,>=1.21.1 in /usr/local/lib/python3.11/dist-packages (from requests<3,>=2.24.0->ydata-profiling) (2.4.0)\n",
      "Requirement already satisfied: certifi>=2017.4.17 in /usr/local/lib/python3.11/dist-packages (from requests<3,>=2.24.0->ydata-profiling) (2025.4.26)\n",
      "Requirement already satisfied: patsy>=0.5.6 in /usr/local/lib/python3.11/dist-packages (from statsmodels<1,>=0.13.2->ydata-profiling) (1.0.1)\n",
      "Requirement already satisfied: attrs>=19.3.0 in /usr/local/lib/python3.11/dist-packages (from visions<0.8.2,>=0.7.5->visions[type_image_path]<0.8.2,>=0.7.5->ydata-profiling) (25.3.0)\n",
      "Requirement already satisfied: networkx>=2.4 in /usr/local/lib/python3.11/dist-packages (from visions<0.8.2,>=0.7.5->visions[type_image_path]<0.8.2,>=0.7.5->ydata-profiling) (3.5)\n",
      "Collecting puremagic (from visions<0.8.2,>=0.7.5->visions[type_image_path]<0.8.2,>=0.7.5->ydata-profiling)\n",
      "  Downloading puremagic-1.29-py3-none-any.whl.metadata (5.8 kB)\n",
      "Requirement already satisfied: six>=1.5 in /usr/local/lib/python3.11/dist-packages (from python-dateutil>=2.7->matplotlib<=3.10,>=3.5->ydata-profiling) (1.17.0)\n",
      "Downloading ydata_profiling-4.16.1-py2.py3-none-any.whl (400 kB)\n",
      "\u001b[2K   \u001b[90m━━━━━━━━━━━━━━━━━━━━━━━━━━━━━━━━━━━━━━━━\u001b[0m \u001b[32m400.1/400.1 kB\u001b[0m \u001b[31m8.2 MB/s\u001b[0m eta \u001b[36m0:00:00\u001b[0m\n",
      "\u001b[?25hDownloading ImageHash-4.3.1-py2.py3-none-any.whl (296 kB)\n",
      "\u001b[2K   \u001b[90m━━━━━━━━━━━━━━━━━━━━━━━━━━━━━━━━━━━━━━━━\u001b[0m \u001b[32m296.5/296.5 kB\u001b[0m \u001b[31m16.6 MB/s\u001b[0m eta \u001b[36m0:00:00\u001b[0m\n",
      "\u001b[?25hDownloading dacite-1.9.2-py3-none-any.whl (16 kB)\n",
      "Downloading multimethod-1.12-py3-none-any.whl (10 kB)\n",
      "Downloading phik-0.12.4-cp311-cp311-manylinux_2_17_x86_64.manylinux2014_x86_64.whl (687 kB)\n",
      "\u001b[2K   \u001b[90m━━━━━━━━━━━━━━━━━━━━━━━━━━━━━━━━━━━━━━━━\u001b[0m \u001b[32m687.8/687.8 kB\u001b[0m \u001b[31m25.4 MB/s\u001b[0m eta \u001b[36m0:00:00\u001b[0m\n",
      "\u001b[?25hDownloading visions-0.8.1-py3-none-any.whl (105 kB)\n",
      "\u001b[2K   \u001b[90m━━━━━━━━━━━━━━━━━━━━━━━━━━━━━━━━━━━━━━━━\u001b[0m \u001b[32m105.4/105.4 kB\u001b[0m \u001b[31m7.7 MB/s\u001b[0m eta \u001b[36m0:00:00\u001b[0m\n",
      "\u001b[?25hDownloading puremagic-1.29-py3-none-any.whl (43 kB)\n",
      "\u001b[2K   \u001b[90m━━━━━━━━━━━━━━━━━━━━━━━━━━━━━━━━━━━━━━━━\u001b[0m \u001b[32m43.3/43.3 kB\u001b[0m \u001b[31m2.3 MB/s\u001b[0m eta \u001b[36m0:00:00\u001b[0m\n",
      "\u001b[?25hBuilding wheels for collected packages: htmlmin\n",
      "  Building wheel for htmlmin (setup.py) ... \u001b[?25l\u001b[?25hdone\n",
      "  Created wheel for htmlmin: filename=htmlmin-0.1.12-py3-none-any.whl size=27081 sha256=130c968a8d90c0cf1912110d846d934f50216b2c2b2dec2cdbf09dc6d1bee85a\n",
      "  Stored in directory: /root/.cache/pip/wheels/8d/55/1a/19cd535375ed1ede0c996405ebffe34b196d78e2d9545723a2\n",
      "Successfully built htmlmin\n",
      "Installing collected packages: puremagic, htmlmin, multimethod, dacite, imagehash, visions, phik, ydata-profiling\n",
      "Successfully installed dacite-1.9.2 htmlmin-0.1.12 imagehash-4.3.1 multimethod-1.12 phik-0.12.4 puremagic-1.29 visions-0.8.1 ydata-profiling-4.16.1\n"
     ]
    }
   ],
   "source": [
    "!pip install ydata-profiling"
   ]
  },
  {
   "cell_type": "code",
   "execution_count": 2,
   "id": "2c209d24-1310-44e9-9e9d-47f4cf48430f",
   "metadata": {
    "executionInfo": {
     "elapsed": 4405,
     "status": "ok",
     "timestamp": 1750256880443,
     "user": {
      "displayName": "RONALD CHOQUE",
      "userId": "11048572111781069010"
     },
     "user_tz": 240
    },
    "id": "2c209d24-1310-44e9-9e9d-47f4cf48430f"
   },
   "outputs": [],
   "source": [
    "import pandas as pd\n",
    "import matplotlib.pyplot as plt\n",
    "import seaborn as sns"
   ]
  },
  {
   "cell_type": "code",
   "execution_count": 3,
   "id": "TTN8vFlmhVf-",
   "metadata": {
    "colab": {
     "base_uri": "https://localhost:8080/"
    },
    "executionInfo": {
     "elapsed": 19872,
     "status": "ok",
     "timestamp": 1750256900334,
     "user": {
      "displayName": "RONALD CHOQUE",
      "userId": "11048572111781069010"
     },
     "user_tz": 240
    },
    "id": "TTN8vFlmhVf-",
    "outputId": "7395cbed-6205-4a38-9103-d7438e8b3ef1"
   },
   "outputs": [
    {
     "name": "stdout",
     "output_type": "stream",
     "text": [
      "   Nro_evento               Fecha  Potencia_activa_generada [kW]  \\\n",
      "0           1 2024-05-02 00:00:00                            0.0   \n",
      "1           2 2024-05-02 00:15:00                            0.0   \n",
      "2           3 2024-05-02 00:30:00                            0.0   \n",
      "3           4 2024-05-02 00:45:00                            0.0   \n",
      "4           5 2024-05-02 01:00:00                            0.0   \n",
      "\n",
      "   Potencia_activa_consumida [kW]  Potencia_reactiva_generada [kVAr]  \\\n",
      "0                             0.0                                0.0   \n",
      "1                             0.0                                0.0   \n",
      "2                             0.0                                0.0   \n",
      "3                             0.0                                0.0   \n",
      "4                             0.0                                0.0   \n",
      "\n",
      "   Potencia_reactiva_consumida [kVAr]  Potencia_aparente_generada [kVA]  \\\n",
      "0                                 0.0                               0.0   \n",
      "1                                 0.0                               0.0   \n",
      "2                                 0.0                               0.0   \n",
      "3                                 0.0                               0.0   \n",
      "4                                 0.0                               0.0   \n",
      "\n",
      "   Potencia_aparente_consumida [kVA]  Voltaje_F-N_A [V]  Voltaje_F-N_B [V]  \\\n",
      "0                                0.0           66388.07           66434.18   \n",
      "1                                0.0           66422.85           66459.57   \n",
      "2                                0.0           66585.06           66615.78   \n",
      "3                                0.0           66633.13           66662.76   \n",
      "4                                0.0           66636.20           66681.86   \n",
      "\n",
      "   Voltaje_F-N_C [V]  Amperaje_A [A]  Amperaje_B [A]  Amperaje_C [A]  \\\n",
      "0           66359.26             0.0             0.0             0.0   \n",
      "1           66389.37             0.0             0.0             0.0   \n",
      "2           66537.43             0.0             0.0             0.0   \n",
      "3           66580.88             0.0             0.0             0.0   \n",
      "4           66596.66             0.0             0.0             0.0   \n",
      "\n",
      "   Factor_potencia_generado  Factor_potencia_consumido  Frecuencia  \n",
      "0                       0.0                        0.0       49.96  \n",
      "1                       0.0                        0.0       49.95  \n",
      "2                       0.0                        0.0       50.05  \n",
      "3                       0.0                        0.0       50.04  \n",
      "4                       0.0                        0.0       49.99  \n"
     ]
    }
   ],
   "source": [
    "#importamos el dataset directo desde drive\n",
    "file_id = \"162tGV9Zk3w-mYr6izlqLUSsI70SH_hs0\"  # id AGU02_limpio.xlsx\n",
    "url = f\"https://drive.google.com/uc?id={file_id}\"\n",
    "\n",
    "# Leer archivo Excel\n",
    "df = pd.read_excel(url, engine=\"openpyxl\")\n",
    "\n",
    "# Ver los primeros registros\n",
    "print(df.head())"
   ]
  },
  {
   "cell_type": "code",
   "execution_count": 4,
   "id": "8b4f8891-0aab-464d-a79b-abd1fde8c5e1",
   "metadata": {
    "colab": {
     "base_uri": "https://localhost:8080/"
    },
    "executionInfo": {
     "elapsed": 34,
     "status": "ok",
     "timestamp": 1750256900361,
     "user": {
      "displayName": "RONALD CHOQUE",
      "userId": "11048572111781069010"
     },
     "user_tz": 240
    },
    "id": "8b4f8891-0aab-464d-a79b-abd1fde8c5e1",
    "outputId": "6681b996-32dd-4835-f328-66a7a54fc179"
   },
   "outputs": [
    {
     "name": "stdout",
     "output_type": "stream",
     "text": [
      "<class 'pandas.core.frame.DataFrame'>\n",
      "RangeIndex: 18653 entries, 0 to 18652\n",
      "Data columns (total 17 columns):\n",
      " #   Column                              Non-Null Count  Dtype         \n",
      "---  ------                              --------------  -----         \n",
      " 0   Nro_evento                          18653 non-null  int64         \n",
      " 1   Fecha                               18653 non-null  datetime64[ns]\n",
      " 2   Potencia_activa_generada [kW]       18653 non-null  float64       \n",
      " 3   Potencia_activa_consumida [kW]      18653 non-null  float64       \n",
      " 4   Potencia_reactiva_generada [kVAr]   18653 non-null  float64       \n",
      " 5   Potencia_reactiva_consumida [kVAr]  18653 non-null  float64       \n",
      " 6   Potencia_aparente_generada [kVA]    18653 non-null  float64       \n",
      " 7   Potencia_aparente_consumida [kVA]   18653 non-null  float64       \n",
      " 8   Voltaje_F-N_A [V]                   18653 non-null  float64       \n",
      " 9   Voltaje_F-N_B [V]                   18653 non-null  float64       \n",
      " 10  Voltaje_F-N_C [V]                   18653 non-null  float64       \n",
      " 11  Amperaje_A [A]                      18653 non-null  float64       \n",
      " 12  Amperaje_B [A]                      18653 non-null  float64       \n",
      " 13  Amperaje_C [A]                      18653 non-null  float64       \n",
      " 14  Factor_potencia_generado            18653 non-null  float64       \n",
      " 15  Factor_potencia_consumido           18653 non-null  float64       \n",
      " 16  Frecuencia                          18653 non-null  float64       \n",
      "dtypes: datetime64[ns](1), float64(15), int64(1)\n",
      "memory usage: 2.4 MB\n",
      "None\n"
     ]
    }
   ],
   "source": [
    "\n",
    "print(df.info())"
   ]
  },
  {
   "cell_type": "code",
   "execution_count": 5,
   "id": "ed6870a3-1a23-44b3-9db1-db53e7eae6bd",
   "metadata": {
    "colab": {
     "base_uri": "https://localhost:8080/",
     "height": 1000,
     "output_embedded_package_id": "1KrLMJ45hLVG_DBwlupImlPNsg18o4fJH",
     "referenced_widgets": [
      "6ec423cb8d204bcd90989e86afd84a32",
      "b39b36abdbbb48a7b392b7f5d3c92c03",
      "a9446de986484ad188ccf0b2e3c64fdb",
      "63602bc11ece4afe85ffff3433a016f5",
      "ad9e17fafe004d97a0232d5a43bfaa4f",
      "dd84bda732204ff7a7fcfc346c0e30fc",
      "1be0b50ec97540d989bce7123d158777",
      "c3b4fb48096d42e4bc9a4bc174d25700",
      "16fec1c586db4143aa432c1b259592ae",
      "67fdb7671e3b42a9bd22feb29ba85c8b",
      "c0b37e8d225243fda4d7afe28ceaaf65",
      "51ed878ac14c486e99400baa95e42b4c",
      "6e02daf3754c4a1c854ff4153c42fd3f",
      "2bec6e8fc4544121ad3cca1b66acb5c1",
      "cfd680ada85049c7b003e2da80337768",
      "9bbb531821e449e297eafb5e4d6e74d1",
      "da96d89ce3524066a3831b6f84086e19",
      "b418ef3ee4014d2a9a72293d36b4cd64",
      "09899294fb9449c1bd62005a5718f889",
      "7276511e9e6c4d11b7e93624e06933de",
      "e7429739d24448adbcf77e7afdc729d2",
      "df9b2f73a5b143518deab927a54b8db7",
      "d79b545cb0f94f08b82761d0c1170b63",
      "036679a7d4104d1c97e6b3e915da7895",
      "8dcb993a33f741f1b1a99edd85046476",
      "f12b166d912b4f59bbf0c511acc28168",
      "d91c27a0cbef4eaf90ac3bee460094e8",
      "af2df052d28e41dfab261e93abd2db80",
      "6de44bc7975e4c14baa06442548a5613",
      "df9d8ba179764ee4b5ab5d692f2e9669",
      "f6fc536faecf4500a76b7979d25e54dc",
      "f7400da04c934bb79867f6d4c293a525",
      "0ce9c134416d4659aa5a2f94b36f6ec6"
     ]
    },
    "executionInfo": {
     "elapsed": 81697,
     "status": "ok",
     "timestamp": 1750256982059,
     "user": {
      "displayName": "RONALD CHOQUE",
      "userId": "11048572111781069010"
     },
     "user_tz": 240
    },
    "id": "ed6870a3-1a23-44b3-9db1-db53e7eae6bd",
    "outputId": "2312698e-238d-4fad-a030-f3c9e34a4ebe"
   },
   "outputs": [
    {
     "data": {
      "text/plain": [
       "Output hidden; open in https://colab.research.google.com to view."
      ]
     },
     "metadata": {},
     "output_type": "display_data"
    }
   ],
   "source": [
    "from ydata_profiling import ProfileReport\n",
    "profile = ProfileReport(df,title='Profiling Report')\n",
    "profile"
   ]
  },
  {
   "cell_type": "code",
   "execution_count": 6,
   "id": "6a57accb-a2ea-4d1c-9599-000c53e46b41",
   "metadata": {
    "colab": {
     "base_uri": "https://localhost:8080/",
     "height": 49,
     "referenced_widgets": [
      "f87ab7af995d4d56a306ea30cc6dd207",
      "d088912858004760b3a189f8496233a1",
      "ca58b0881b2547bc8f2274b88623cbb8",
      "fd3daf5105d543dcb053168b355bbacf",
      "aa8b9b8ffaed4677a5ab60dc786e200a",
      "e30234f1bb5e4177b8f375095696edc2",
      "1774124d5f164cdcaf0b24bfa3968609",
      "18ce517df73a4baa8e9a225ed5f81788",
      "8436cb0338af4697915c832d743ce176",
      "a60aa256069a4932a263b820f6d921cd",
      "7a20cd7b1ffb4758abe32b4255abf893"
     ]
    },
    "executionInfo": {
     "elapsed": 18,
     "status": "ok",
     "timestamp": 1750256982523,
     "user": {
      "displayName": "RONALD CHOQUE",
      "userId": "11048572111781069010"
     },
     "user_tz": 240
    },
    "id": "6a57accb-a2ea-4d1c-9599-000c53e46b41",
    "outputId": "3b27f11c-a627-4bf0-c0e5-bb8d0fdb4a37"
   },
   "outputs": [
    {
     "data": {
      "application/vnd.jupyter.widget-view+json": {
       "model_id": "f87ab7af995d4d56a306ea30cc6dd207",
       "version_major": 2,
       "version_minor": 0
      },
      "text/plain": [
       "Export report to file:   0%|          | 0/1 [00:00<?, ?it/s]"
      ]
     },
     "metadata": {},
     "output_type": "display_data"
    }
   ],
   "source": [
    "profile.to_file(\"reporte_AGU02.html\")"
   ]
  },
  {
   "cell_type": "code",
   "execution_count": 6,
   "id": "95a21584-55fe-4009-a9ea-da7ca3241f22",
   "metadata": {
    "executionInfo": {
     "elapsed": 8,
     "status": "ok",
     "timestamp": 1750256982534,
     "user": {
      "displayName": "RONALD CHOQUE",
      "userId": "11048572111781069010"
     },
     "user_tz": 240
    },
    "id": "95a21584-55fe-4009-a9ea-da7ca3241f22"
   },
   "outputs": [],
   "source": []
  }
 ],
 "metadata": {
  "colab": {
   "provenance": []
  },
  "kernelspec": {
   "display_name": "Python [conda env:base] *",
   "language": "python",
   "name": "conda-base-py"
  },
  "language_info": {
   "codemirror_mode": {
    "name": "ipython",
    "version": 3
   },
   "file_extension": ".py",
   "mimetype": "text/x-python",
   "name": "python",
   "nbconvert_exporter": "python",
   "pygments_lexer": "ipython3",
   "version": "3.12.7"
  }
 },
 "nbformat": 4,
 "nbformat_minor": 5
}
